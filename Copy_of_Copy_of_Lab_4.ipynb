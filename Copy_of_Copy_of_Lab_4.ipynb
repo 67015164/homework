{
  "nbformat": 4,
  "nbformat_minor": 0,
  "metadata": {
    "colab": {
      "provenance": [],
      "include_colab_link": true
    },
    "kernelspec": {
      "name": "python3",
      "display_name": "Python 3"
    },
    "language_info": {
      "name": "python"
    }
  },
  "cells": [
    {
      "cell_type": "markdown",
      "metadata": {
        "id": "view-in-github",
        "colab_type": "text"
      },
      "source": [
        "<a href=\"https://colab.research.google.com/github/67015164/homework/blob/main/Copy_of_Copy_of_Lab_4.ipynb\" target=\"_parent\"><img src=\"https://colab.research.google.com/assets/colab-badge.svg\" alt=\"Open In Colab\"/></a>"
      ]
    },
    {
      "cell_type": "markdown",
      "source": [
        "4.1 2520 คือ ตัวเลขที่น้อยที่สุด ที่สามารถหารด้วยตัวเลขทุกตัวตั้งแต่ 1-10 จงหาจำนวนเต็มบวกที่น้อยที่สุดที่หารด้วยตัวเลขทุกตัวตั้งแต่ 1-20\n",
        "\n",
        "15 = 360360\n",
        "\n",
        "20 = 232792560\n",
        "\n",
        "ปล. ห้าม import math"
      ],
      "metadata": {
        "id": "-bpz7hteQPdz"
      }
    },
    {
      "cell_type": "code",
      "execution_count": null,
      "metadata": {
        "id": "HSZUXcF2QMVn",
        "colab": {
          "base_uri": "https://localhost:8080/"
        },
        "outputId": "7e8ecaec-9beb-466c-dd29-5bb8b8291325"
      },
      "outputs": [
        {
          "output_type": "stream",
          "name": "stdout",
          "text": [
            "8\n",
            "840\n"
          ]
        }
      ],
      "source": [
        "x = int(input())\n",
        "k,m = 0,0\n",
        "if k == 0:\n",
        "  for i in range(1,232792561):\n",
        "    if k == 0:\n",
        "      for j in range(1,x+1):\n",
        "        if i%j!=0:\n",
        "          break\n",
        "        if j == x:\n",
        "          print(i)\n",
        "          m = i\n",
        "          k+=1\n",
        "          break\n",
        "    elif k != 0:\n",
        "      break\n",
        "elif k != 0:\n",
        "  print(m)"
      ]
    },
    {
      "cell_type": "markdown",
      "source": [
        "4.2 จำนวนเฉพาะ (Prime Number) คือตัวเลขที่มีแต่ 1 กับตัวมันเองที่หารลงตัว โดยจำนวนเฉพาะ 6 ตัวแรกคือ 2, 3, 5, 7, 11, 13 โดยจำนวนเฉพาะตัวที่ 6 คือ 13 จงหาจำนวนเฉพาะตัวที่ 101\n",
        "\n",
        "=> 547"
      ],
      "metadata": {
        "id": "Wq1EFYHUWNOA"
      }
    },
    {
      "cell_type": "code",
      "source": [
        "k = int(input())\n",
        "p = 0\n",
        "n = 1\n",
        "while p < k:\n",
        "    n += 1\n",
        "    prime = True\n",
        "    for i in range(2, int(n ** 0.5) + 1):\n",
        "        if n % i == 0:\n",
        "            prime = False\n",
        "            break\n",
        "    if prime:\n",
        "        p += 1\n",
        "print(n)"
      ],
      "metadata": {
        "colab": {
          "base_uri": "https://localhost:8080/"
        },
        "id": "cpMa6Vp0Vz_L",
        "outputId": "005a8732-0458-498b-d695-57520e690897"
      },
      "execution_count": null,
      "outputs": [
        {
          "output_type": "stream",
          "name": "stdout",
          "text": [
            "101\n",
            "547\n"
          ]
        }
      ]
    },
    {
      "cell_type": "markdown",
      "source": [
        "1.\tกำหนดให้มี List หนึ่งประกอบด้วยตัวเลขจำนวนหนึ่ง และ ให้รับตัวเลขจำนวน 1 จำนวน จากนั้นให้หาว่าใน List มีตัวเลข 2 จำนวนใดที่บวกกันเท่ากับตัวเลขที่รับมา ให้แสดงคำตอบเป็น List เช่น Output: [0,1] โดยอาจมีมากกว่า 1 คำตอบ\n",
        "\n",
        "ตัวอย่าง list : [2, 7, 11, 15]\n",
        "\n",
        "Input : 9\n",
        "\n",
        "Output : 2 + 7 = 9 (ถ้าไม่มีให้บอก None)\n"
      ],
      "metadata": {
        "id": "-pUpw-m_WqFG"
      }
    },
    {
      "cell_type": "code",
      "source": [
        "lst = list(map(int, input().split()))\n",
        "find = int(input())\n",
        "k = 0\n",
        "real = []\n",
        "for i in lst:\n",
        "  for j in lst:\n",
        "    if i + j == find:\n",
        "      k += 1\n",
        "      if i not in real:\n",
        "        real.append(i)\n",
        "      if i not in real:\n",
        "        real.append(j)\n",
        "print(real)"
      ],
      "metadata": {
        "id": "s3djwBi4ks1g",
        "colab": {
          "base_uri": "https://localhost:8080/"
        },
        "outputId": "50d78f6e-88f7-43ab-fd81-b662706d2da9"
      },
      "execution_count": null,
      "outputs": [
        {
          "output_type": "stream",
          "name": "stdout",
          "text": [
            "2 7 11 15\n",
            "9\n",
            "[2, 7]\n"
          ]
        }
      ]
    },
    {
      "cell_type": "markdown",
      "source": [
        "2.\tให้เขียนโปรแกรมรับข้อมูล 1 บรรทัด ประกอบด้วยตัวเลข 1 หลัก จำนวนไม่เกิน 10 ตัว คั่นด้วยช่องว่าง จากนั้นให้นำตัวเลขที่รับเข้ามาเรียงกัน และหาลำดับการเรียงที่ทำให้มีค่าน้อยที่สุด โดยต้องไม่ขึ้นต้นด้วย 0\n",
        "\n",
        "Input : 9 4 6 2  \n",
        "\n",
        "คำตอบ 2469\n",
        "\n",
        "Input : 3 0 8 1 3 3\n",
        "\n",
        "คำตอบ : 103338\n"
      ],
      "metadata": {
        "id": "_3yLG291lSFy"
      }
    },
    {
      "cell_type": "code",
      "source": [
        "num = list(map(int, input().split()))\n",
        "for i in range(0, len(num)):\n",
        "    for j in range(i+1, len(num)):\n",
        "        if num[i] >= num[j]:\n",
        "            num[i], num[j] = num[j],num[i]\n",
        "if num[0] == 0:\n",
        "  num[0] , num[1] = num[1] , num[0]\n",
        "print(*num,sep='')"
      ],
      "metadata": {
        "id": "ACtXvMEyli0L",
        "colab": {
          "base_uri": "https://localhost:8080/"
        },
        "outputId": "6ebd35be-6300-4246-d7e1-aa6eef018b9a"
      },
      "execution_count": null,
      "outputs": [
        {
          "output_type": "stream",
          "name": "stdout",
          "text": [
            "3 0 8 1 3 3\n",
            "103338\n"
          ]
        }
      ]
    },
    {
      "cell_type": "markdown",
      "source": [
        "3.\tจากตัวเลขต่อไปนี้ ตัวเลขติดกัน 4 ตัวที่เมื่อนำมาคูณกันแล้วมีค่ามากที่สุดคือ 9 × 9 × 8 × 9 = 5832\n",
        "\n",
        "73167176531330624919225119674426574742355349194934\n",
        "96983520312774506326239578318016984801869478851843\n",
        "85861560789112949495459501737958331952853208805511\n",
        "12540698747158523863050715693290963295227443043557\n",
        "66896648950445244523161731856403098711121722383113\n",
        "62229893423380308135336276614282806444486645238749\n",
        "30358907296290491560440772390713810515859307960866\n",
        "70172427121883998797908792274921901699720888093776\n",
        "65727333001053367881220235421809751254540594752243\n",
        "52584907711670556013604839586446706324415722155397\n",
        "53697817977846174064955149290862569321978468622482\n",
        "83972241375657056057490261407972968652414535100474\n",
        "82166370484403199890008895243450658541227588666881\n",
        "16427171479924442928230863465674813919123162824586\n",
        "17866458359124566529476545682848912883142607690042\n",
        "24219022671055626321111109370544217506941658960408\n",
        "07198403850962455444362981230987879927244284909188\n",
        "84580156166097919133875499200524063689912560717606\n",
        "05886116467109405077541002256983155200055935729725\n",
        "71636269561882670428252483600823257530420752963450\n",
        "\n",
        "จงหาเลขติดกัน 8 ตัวที่เมื่อนำมาคูณกันแล้วมีค่ามากที่สุด และเป็นเลขอะไร ผลคูณเท่ากับเท่าไร\n",
        "\n",
        "The maximum product is: 7838208\n",
        "The digits are: 88399879\n",
        "\n",
        "\n",
        "\n"
      ],
      "metadata": {
        "id": "Gv8aIY7dliSY"
      }
    },
    {
      "cell_type": "code",
      "source": [
        "num = (\n",
        "    \"73167176531330624919225119674426574742355349194934\"\n",
        "    \"96983520312774506326239578318016984801869478851843\"\n",
        "    \"85861560789112949495459501737958331952853208805511\"\n",
        "    \"12540698747158523863050715693290963295227443043557\"\n",
        "    \"66896648950445244523161731856403098711121722383113\"\n",
        "    \"62229893423380308135336276614282806444486645238749\"\n",
        "    \"30358907296290491560440772390713810515859307960866\"\n",
        "    \"70172427121883998797908792274921901699720888093776\"\n",
        "    \"65727333001053367881220235421809751254540594752243\"\n",
        "    \"52584907711670556013604839586446706324415722155397\"\n",
        "    \"53697817977846174064955149290862569321978468622482\"\n",
        "    \"83972241375657056057490261407972968652414535100474\"\n",
        "    \"82166370484403199890008895243450658541227588666881\"\n",
        "    \"16427171479924442928230863465674813919123162824586\"\n",
        "    \"17866458359124566529476545682848912883142607690042\"\n",
        "    \"24219022671055626321111109370544217506941658960408\"\n",
        "    \"07198403850962455444362981230987879927244284909188\"\n",
        "    \"84580156166097919133875499200524063689912560717606\"\n",
        "    \"05886116467109405077541002256983155200055935729725\"\n",
        "    \"71636269561882670428252483600823257530420752963450\"\n",
        ")\n",
        "pro= 0\n",
        "dig = ''\n",
        "for i in range(len(num) - 7):\n",
        "    digits = num[i:i+8]\n",
        "    product = 1\n",
        "    for digit in digits:\n",
        "        product *= int(digit)\n",
        "    if product > pro:\n",
        "        pro = product\n",
        "        dig = digits\n",
        "print(pro)\n",
        "print(dig)"
      ],
      "metadata": {
        "id": "wvVqGMknmBu5",
        "colab": {
          "base_uri": "https://localhost:8080/"
        },
        "outputId": "e6e695ad-4ca4-4504-969f-0fbb773aa84c"
      },
      "execution_count": null,
      "outputs": [
        {
          "output_type": "stream",
          "name": "stdout",
          "text": [
            "The maximum product is: 7838208\n",
            "The digits are: 88399879\n"
          ]
        }
      ]
    },
    {
      "cell_type": "markdown",
      "source": [
        "4.\tตัวเลข palindrome คือตัวเลขที่อ่านได้ทั้ง 2 ทาง แล้วมีค่าเท่ากัน เช่น 9009 โดย 9009 คือ palindrome ที่เกิดจากการคูณของตัวเลข 2 หลักที่มากที่สุด คือ 91x99 จงหา palindrome ที่มากที่สุดของตัวเลข 3 หลัก\n",
        "\n",
        "The largest palindrome product of 3-digit numbers is: 906609\n"
      ],
      "metadata": {
        "id": "fjy5LNC7m0We"
      }
    },
    {
      "cell_type": "code",
      "source": [
        "def is_palindrome(n): #AI\n",
        "    return str(n) == str(n)[::-1]\n",
        "max_palindrome = 0\n",
        "for i in range(999, 99, -1):\n",
        "    for j in range(i, 99, -1):\n",
        "        product = i * j\n",
        "        if is_palindrome(product) and product > max_palindrome:\n",
        "            max_palindrome = product\n",
        "print(max_palindrome)"
      ],
      "metadata": {
        "id": "y-QY3hzVmsud",
        "colab": {
          "base_uri": "https://localhost:8080/"
        },
        "outputId": "606319c4-9b33-49b3-c592-1c9d86b0c425"
      },
      "execution_count": null,
      "outputs": [
        {
          "output_type": "stream",
          "name": "stdout",
          "text": [
            "906609\n"
          ]
        }
      ]
    },
    {
      "cell_type": "markdown",
      "source": [
        "5.\tกำหนดให้ string มีเพียงสัญลักษณ์ '(', ')', '{', '}', '[' และ ']' ให้ตรวจสอบว่า String ถูกต้อง โดย เมื่อมีวงเล็บเปิด จะต้องมีวงเล็บปิดที่เป็นชนิดเดียวกัน จำนวนเท่ากันที่เป็นคู่ของมัน\n",
        "\n",
        "```\n",
        "Input: s = \"()\"\n",
        "Output: true\n",
        "Input: s = \"()[]{}\"\n",
        "Output: true\n",
        "Input: s = \"[()]{}\"\n",
        "Output: true\n",
        "Input: s = \"(]\"\n",
        "Output: false\n",
        "```\n",
        "\n",
        "\n"
      ],
      "metadata": {
        "id": "rUZvLJ-JnGJY"
      }
    },
    {
      "cell_type": "code",
      "source": [
        "x = input()\n",
        "q,w,e = 0,0,0\n",
        "for i in x:\n",
        "  if i == '[':\n",
        "    q+=1\n",
        "  if i == ']':\n",
        "    q-=1\n",
        "  if i == '{':\n",
        "    w+=1\n",
        "  if i == '}':\n",
        "    w-=1\n",
        "  if i == '(':\n",
        "    e+=1\n",
        "  if i == ')':\n",
        "    e-=1\n",
        "if q == 0 and w == 0 and e == 0:\n",
        "  print('true')\n",
        "else:\n",
        "  print('false')"
      ],
      "metadata": {
        "id": "Ku8ts4x7nk1y",
        "colab": {
          "base_uri": "https://localhost:8080/"
        },
        "outputId": "d1cf187a-99f0-4f7e-b388-568866cdd5d7"
      },
      "execution_count": null,
      "outputs": [
        {
          "output_type": "stream",
          "name": "stdout",
          "text": [
            "(]\n",
            "false\n"
          ]
        }
      ]
    },
    {
      "cell_type": "markdown",
      "source": [
        "6.\tกำหนดให้รับข้อมูล Integer (เป็นบวกหรือลบก็ได้) จากนั้นให้แสดงผลลัพธ์ที่ reverse ตัวเลขตามตัวอย่าง\n",
        "\n",
        "```\n",
        "Input: x = 123\n",
        "Output: 321\n",
        "Input: x = -123\n",
        "Output: -321\n",
        "Input: x = 120\n",
        "Output: 21\n",
        "```\n",
        "\n"
      ],
      "metadata": {
        "id": "PLL9Wdqqnx7o"
      }
    },
    {
      "cell_type": "code",
      "source": [
        "x = input('Input: ')\n",
        "j = 0\n",
        "kk = 0\n",
        "if x == '0':\n",
        "  kk = 1\n",
        "  print('0')\n",
        "else:\n",
        "  if x == '-0':\n",
        "    j = 1\n",
        "  if kk == 0:\n",
        "    if x[1].isnumeric() and x != '-0':\n",
        "      j = 2\n",
        "    if j == 2:\n",
        "      num = int(x)\n",
        "      if type(num) == int:\n",
        "        if num < 0:\n",
        "          num -= num*2\n",
        "          numa = (str(num)[::-1])\n",
        "          if numa[0] == '0':\n",
        "            numa = numa[1:]\n",
        "          print('-', numa, sep = '')\n",
        "        elif num > 0:\n",
        "          numa = (str(num)[::-1])\n",
        "          if numa[0] == '0':\n",
        "            numa = numa[1:]\n",
        "          print(numa)\n",
        "        elif num == 0:\n",
        "          print('0')\n",
        "    if j == 0:\n",
        "      print('Try again')\n",
        "    if j == 1:\n",
        "      print('-0')"
      ],
      "metadata": {
        "colab": {
          "base_uri": "https://localhost:8080/"
        },
        "id": "1PKNqHCX0XEE",
        "outputId": "1210f593-161c-4cb0-f3a4-bf914d0698e3"
      },
      "execution_count": null,
      "outputs": [
        {
          "output_type": "stream",
          "name": "stdout",
          "text": [
            "Input: 21\n",
            "12\n"
          ]
        }
      ]
    },
    {
      "cell_type": "markdown",
      "source": [
        "7.\tเขียนโปรแกรมเพื่อแสดงปิรามิดบนจอภาพ โดยแสดงเป็นรูปสี่เหลี่ยม ตัวเลขเริ่มจาก 0  และเพิ่มค่าตามลําดับจํานวนขั้น จาก 0 ถึง N (รับค่า N จากคีย์บอร์ด) ค่าของ N อยู่ระหว่าง 0-9 ดังตัวอย่าง\n",
        "\n",
        "\n",
        "```\n",
        "\t\t\t\t\t\t\t\t\t         0000000\n",
        "\t\t\t\t\t\t\t    00000\t\t0111110\n",
        "\t\t\t\t\t000\t\t 01110\t\t0122210\n",
        "\t\t\t0\t\t010\t\t01210\t\t0123210\n",
        "\t\t\t\t\t000\t\t 01110\t\t0122210\n",
        "\t\t\t\t\t\t\t    00000\t\t0111110\n",
        "\t\t\t\t\t\t\t\t\t         0000000\n",
        "\n",
        "\t\t\tn=0\t\tn=1\t\tn=2\t\tn=3\n",
        "\n",
        "```\n",
        "\n"
      ],
      "metadata": {
        "id": "KboD6c8rn52a"
      }
    },
    {
      "cell_type": "code",
      "source": [
        "n = int(input())\n",
        "s = n * 2 + 1\n",
        "p = [[0 for _ in range(s)] for _ in range(s)]\n",
        "for i in range(s):\n",
        "    for j in range(s):\n",
        "        dis = min(i, j, s - 1 - i, s - 1 - j)\n",
        "        p[i][j] = dis\n",
        "for row in p:\n",
        "    print(''.join(map(str, row)))"
      ],
      "metadata": {
        "id": "sGhw6Iyfobiz",
        "colab": {
          "base_uri": "https://localhost:8080/"
        },
        "outputId": "555affbc-b2a8-4e31-c867-2489e6943a97"
      },
      "execution_count": 6,
      "outputs": [
        {
          "output_type": "stream",
          "name": "stdout",
          "text": [
            "3\n",
            "0000000\n",
            "0111110\n",
            "0122210\n",
            "0123210\n",
            "0122210\n",
            "0111110\n",
            "0000000\n"
          ]
        }
      ]
    },
    {
      "cell_type": "markdown",
      "source": [
        "8.\tเขียนโปรแกรมเพื่อแสดงปิรามิดบนจอภาพ โดยแสดงเป็นรูปสี่เหลี่ยม ตัวเลขเริ่มจาก 0  และเพิ่มค่าตามลําดับจํานวนขั้น จาก 0 ถึง N (รับค่า N จากคีย์บอร์ด) กําหนดให้จุดศูนย์กลางของรูปสี่เหลี่ยมอยู่ที่แถว 13 คอลัมน์ 40 ของจอภาพค่าของ N อยู่ระหว่าง 0-9 ดังตัวอย่าง\n",
        "\n",
        "\n",
        "\n",
        "```\n",
        "\t\t\t\t\t\t\t\t\t            0\n",
        "\t\t\t\t\t\t\t      0\t\t    010\n",
        "\t\t\t\t\t  0\t\t  010\t\t  01210\n",
        "\t\t\t0\t\t010\t\t01210\t\t0123210\n",
        "\t\t\t\t\t  0\t\t  010\t\t  01210\n",
        "\t\t\t\t\t\t\t      0\t\t    010\n",
        "\t\t\t\t\t\t\t\t\t            0\n",
        "\n",
        "\t\t\tn=0\t\tn=1\t\tn=2\t\tn=3\n",
        "\n",
        "```\n",
        "\n"
      ],
      "metadata": {
        "id": "ecRYU6Lkob6Q"
      }
    },
    {
      "cell_type": "code",
      "source": [
        "n = int(input())\n",
        "k = list(range(0, n)) + list(range(n, -1, -1))\n",
        "for i in k:\n",
        "  cl = list(range(0, i)) + list(range(i, -1, -1))\n",
        "  print((n-i)*' ',*cl, sep='')"
      ],
      "metadata": {
        "id": "7e9YGDh7nngF",
        "outputId": "56504426-385e-4bb7-9e1c-d86767d69136",
        "colab": {
          "base_uri": "https://localhost:8080/"
        }
      },
      "execution_count": null,
      "outputs": [
        {
          "output_type": "stream",
          "name": "stdout",
          "text": [
            "3\n",
            "   0\n",
            "  010\n",
            " 01210\n",
            "0123210\n",
            " 01210\n",
            "  010\n",
            "   0\n"
          ]
        }
      ]
    },
    {
      "cell_type": "markdown",
      "source": [
        "9.\tให้เขียนโปรแกรมสร้างรูปสามเหลี่ยมที่วางซ้อนกัน 3 รูป โดยแต่ละรูปสร้างมาจากเครื่องหมาย \"*\" โดยกําหนดให้รับตัวเลขระดับของสามเหลี่ยมจากคีย์บอร์ด จากตัวอย่างข้างล่างนี้เป็นรูปสามเหลี่ยมระดับที่ 3 และ 4\n",
        "\n",
        "\n",
        "\n",
        "```\n",
        "              *\n",
        "\t\t     ***\n",
        "\t\t    *****\n",
        "\t\t   *     *\n",
        "\t      ***   ***\n",
        "\t     ***** *****\n",
        "\n",
        "  \t\t    *\n",
        "\t  \t   ***\n",
        "\t\t    *****\n",
        "\t\t   *******\n",
        "\t      *       *\n",
        "\t     ***     ***\n",
        "\t    *****   *****\n",
        "\t   ******* *******\n",
        "\n",
        "```\n",
        "\n"
      ],
      "metadata": {
        "id": "Po50A-Kuo5t4"
      }
    },
    {
      "cell_type": "code",
      "source": [
        "num = int(input(''))\n",
        "for i in range(num):\n",
        "    for j in range((num*2)-i-1):\n",
        "        print(' ', end = '')\n",
        "    for j in range(i + 1):\n",
        "        print('*', end = '')\n",
        "    for j in range(i):\n",
        "        print('*', end = '')\n",
        "    print()\n",
        "for i in range(num):\n",
        "    for j in range(num - i - 1):\n",
        "        print(' ', end = '')\n",
        "    for j in range(i + 1):\n",
        "        print('*', end = '')\n",
        "    for j in range(i):\n",
        "        print('*', end = '')\n",
        "    for j in range(num - i):\n",
        "        print(' ', end = '')\n",
        "    for j in range(num - i - 1):\n",
        "        print(' ', end = '')\n",
        "    for j in range(i + 1):\n",
        "        print('*', end = '')\n",
        "    for j in range(i):\n",
        "        print('*', end = '')\n",
        "    print()"
      ],
      "metadata": {
        "id": "auaRbtHVM2aC",
        "outputId": "b4d33771-1f91-4650-884b-fee11e04dd40",
        "colab": {
          "base_uri": "https://localhost:8080/"
        }
      },
      "execution_count": 3,
      "outputs": [
        {
          "output_type": "stream",
          "name": "stdout",
          "text": [
            "3\n",
            "     *\n",
            "    ***\n",
            "   *****\n",
            "  *     *\n",
            " ***   ***\n",
            "***** *****\n"
          ]
        }
      ]
    }
  ]
}